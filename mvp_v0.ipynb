{
  "nbformat": 4,
  "nbformat_minor": 0,
  "metadata": {
    "colab": {
      "provenance": [],
      "authorship_tag": "ABX9TyPn4dglblIEGHEyvCS6AxEu",
      "include_colab_link": true
    },
    "kernelspec": {
      "name": "python3",
      "display_name": "Python 3"
    },
    "language_info": {
      "name": "python"
    }
  },
  "cells": [
    {
      "cell_type": "markdown",
      "metadata": {
        "id": "view-in-github",
        "colab_type": "text"
      },
      "source": [
        "<a href=\"https://colab.research.google.com/github/LAOLIVEIRA1972/PUC_MVP/blob/main/mvp_v0.ipynb\" target=\"_parent\"><img src=\"https://colab.research.google.com/assets/colab-badge.svg\" alt=\"Open In Colab\"/></a>"
      ]
    },
    {
      "cell_type": "markdown",
      "source": [
        "#MVP: Machine Learning & Analytics\n",
        "\n",
        "Autor: Leandro Alexandre de Oliveira\n",
        "\n",
        "Data: 27/08/2025\n",
        "\n",
        "Matrícula: 4052025001609\n",
        "\n",
        "Dataset: [dataset_plataformas](https://raw.githubusercontent.com/LAOLIVEIRA1972/PUC_MVP/main/dataset_plataformas.xlsx)\n",
        "\n"
      ],
      "metadata": {
        "id": "KfAtW9s5Dpiq"
      }
    },
    {
      "cell_type": "markdown",
      "source": [
        "# 1. Introdução\n",
        "\n",
        "\n",
        "---\n",
        "\n",
        "### 1.1- Objetivo\n",
        "O objetivo desse projeto é criar e avaliar um modelo de Machine Learning que possa estimar a duração de paradas programadas de plataformas petrolíferas de acordo com as suas características.\n",
        "\n",
        "### 1.2- Descrição do problema\n",
        "A parada programada de uma plataforma petrolífera é um evento em que a produção de petróleo é reduzidade de forma parcial ou integral, devendo ser planejada de forma a otimizar a duração do evento, a fim de minimizar o impacto na perda do volume produzido.\n",
        "\n",
        "A duração de uma parada programada depende da complexidade e extensão da manutenção necessária, podendo variar de alguns dias a algumas semanas, ou até meses.\n",
        "\n",
        "Alguns desses fatores serão analisados neste projeto, como: idade, tipo e propriedade da plataforma; lâmina d'água e bacia onde operam; tipo de operação (produção ou injeção).\n",
        "\n",
        "### 1.3- Premissas\n",
        "Foram consideradas apenas paradas programadas, ou seja, aquelas previstas dentro do Plano de Negócio da Empresa. Paradas não programadas não foram consideradas, como por exemplo, paradas por interdição de Órgãos reguladores, pois estes eventos geralmente não tem previsibilidade quanto a sua periodicidade.\n",
        "\n",
        "Foram coletadas informações de paradas programadas a partir de 2010 apenas em bacias sedimentares do Sudeste.\n",
        "\n",
        "Por questões de segurança, foi aplicada a substituição dos dados originais por outros valores, preservando as características originais dos dados.\n",
        "\n",
        "### 1.4- Descrição do Dataset\n",
        "O dataset é composto por mais de 600 registros com dados referentes a paradas programadas de uma Empresa produtora de petróleo, com as seguintes informações:\n",
        "- Plataforma: identificação da plataforma.\n",
        "- Tipo: tipo da plataforma (FPSO, Fixa, Semi-submersível).\n",
        "- Propriedade: indica se a plataforma é própria ou afretada.\n",
        "- LDA: lâmina d'água onde a plataforma opera. Pode ser Rasa (até 300m), Profunda (de 300 a 1.500m) ou Ultraprofunda (acima de 1.500m), conforme classificação da ANP (Agência Nacional do Petróleo, Gás Natural e Biocombustíveis).\n",
        "- Bacia: bacia sedimentar onde a plataforma opera.\n",
        "- Restrição de queima: indica se a parada ocasionará restrição na queima de gás da plataforma.\n",
        "- Tipo operação: indica se o impacto da parada será na operação de produção ou injeção da plataforma.\n",
        "- Idade: idade em anos da plataforma no momento da parada.\n",
        "- Duração: duração da parada em dias.\n",
        "\n",
        "A variável **Duração** é uma medida quantitativa do número em dias da parada programada, representando o atributo para qual se deseja fazer a predição do valor de saída numérico. Dessa forma, trata-se de **um problema de regressão**."
      ],
      "metadata": {
        "id": "vDoU2Tx3xcMR"
      }
    },
    {
      "cell_type": "markdown",
      "source": [
        "# 2. Importação de bibliotecas necessárias\n",
        "\n",
        "\n",
        "---\n",
        "\n"
      ],
      "metadata": {
        "id": "RDwWSX3yx7ft"
      }
    },
    {
      "cell_type": "code",
      "execution_count": 15,
      "metadata": {
        "id": "qKoUkxhgBBTj"
      },
      "outputs": [],
      "source": [
        "# Configuração para não exibir os warnings\n",
        "import warnings\n",
        "warnings.filterwarnings(\"ignore\")\n",
        "\n",
        "# importações necessárias\n",
        "import pandas as pd\n",
        "import numpy as np\n",
        "import matplotlib.pyplot as plt\n",
        "\n",
        "from tabulate import tabulate # para tabular os resultados\n",
        "\n",
        "from sklearn.model_selection import train_test_split # para particionar em bases de treino e teste (holdout)\n",
        "from sklearn.model_selection import KFold # para preparar os folds da validação cruzada\n",
        "from sklearn.model_selection import cross_val_score # para executar a validação cruzada\n",
        "from sklearn.metrics import mean_squared_error # métrica de avaliação MSE\n",
        "from sklearn.linear_model import LinearRegression # algoritmo Regressão Linear\n",
        "from sklearn.linear_model import Ridge # algoritmo Regularização Ridge\n",
        "from sklearn.linear_model import Lasso # algoritmo Regularização Lasso\n",
        "from sklearn.neighbors import KNeighborsRegressor # algoritmo KNN\n",
        "from sklearn.tree import DecisionTreeRegressor # algoritmo Árvore de Regressão\n",
        "from sklearn.svm import SVR # algoritmo SVM\n",
        "from sklearn.preprocessing import StandardScaler # algoritmo para padronização dos dados\n",
        "from sklearn.preprocessing import MinMaxScaler # algoritmo para normalização dos dados\n",
        "from sklearn.pipeline import Pipeline # pipeline\n",
        "from sklearn.ensemble import BaggingRegressor # método de ensemble Bagging\n",
        "from sklearn.ensemble import RandomForestRegressor # método de ensemble RadomForest\n",
        "from sklearn.ensemble import ExtraTreesRegressor # método de ensemble ExtraTreesRegressor\n",
        "from sklearn.ensemble import VotingRegressor # método de ensemble VotingRegressor\n",
        "from sklearn.ensemble import AdaBoostRegressor # método de ensemble AdaBoostRegressor\n",
        "from sklearn.ensemble import GradientBoostingRegressor # método de ensemble GradientBoostingRegressor\n",
        "from sklearn.feature_selection import SelectKBest # para a Seleção Univariada\n",
        "from sklearn.feature_selection import f_classif # para o teste ANOVA da Seleção Univariada\n",
        "from sklearn.feature_selection import RFE # para a Eliminação Recursiva de Atributos\n",
        "from sklearn.model_selection import GridSearchCV # para a otimização dos hiperparâmetros"
      ]
    },
    {
      "cell_type": "markdown",
      "source": [
        "# 3. Preparação dos dados\n",
        "\n",
        "\n",
        "---\n",
        "\n"
      ],
      "metadata": {
        "id": "scdYYfEVJtmR"
      }
    },
    {
      "cell_type": "markdown",
      "source": [
        "### 3.1- Leitura do Dataset\n",
        "Como o dataset original contém atributos categóricos, será necessária a transformação destes em atributos quantitativos, uma vez que alguns modelos de machine learning não trabalham bem com atributos não numéricos."
      ],
      "metadata": {
        "id": "MnoSdM5dz30-"
      }
    },
    {
      "cell_type": "code",
      "source": [
        "# Informa a URL de importação do dataset (usando o link raw para o arquivo no GitHub)\n",
        "url = \"https://raw.githubusercontent.com/LAOLIVEIRA1972/PUC_MVP/main/dataset_plataformas.xlsx\"\n",
        "\n",
        "# Lê o arquivo\n",
        "dataset = pd.read_excel(url)\n",
        "\n",
        "# transforma atributos categóricos em numéricos\n",
        "cols_cat = [\"PLATAFORMA\", \"TIPO\", \"PROPRIEDADE\",\"LDA\", \"BACIA\", \"RESTRICAO_QUEIMA\", \"TIPO_OPERACAO\"]\n",
        "for col in cols_cat:\n",
        "    dataset[col] = dataset[col].replace({sorted(dataset[col].unique())[i]:i for i in range(len(sorted(dataset[col].unique())))})\n",
        "\n",
        "# Mostra as primeiras linhas do dataset com os atributos transformados\n",
        "display(dataset.head())"
      ],
      "metadata": {
        "collapsed": true,
        "colab": {
          "base_uri": "https://localhost:8080/",
          "height": 206
        },
        "id": "q4ehoqlyJUrN",
        "outputId": "267313b6-4a98-4145-c201-ac6a5acea302"
      },
      "execution_count": 16,
      "outputs": [
        {
          "output_type": "display_data",
          "data": {
            "text/plain": [
              "   PLATAFORMA  TIPO  PROPRIEDADE  LDA  BACIA  RESTRICAO_QUEIMA  TIPO_OPERACAO  \\\n",
              "0           3     1            0    0      0                 0              1   \n",
              "1           4     1            0    0      0                 0              1   \n",
              "2           4     1            0    0      0                 0              0   \n",
              "3           8     1            0    0      0                 0              1   \n",
              "4           8     1            0    0      0                 0              1   \n",
              "\n",
              "   IDADE  DURAÇÃO  \n",
              "0      3        9  \n",
              "1      3       14  \n",
              "2      3       13  \n",
              "3      4       14  \n",
              "4      6       25  "
            ],
            "text/html": [
              "\n",
              "  <div id=\"df-946a2f43-a2fb-4813-b345-84680701777a\" class=\"colab-df-container\">\n",
              "    <div>\n",
              "<style scoped>\n",
              "    .dataframe tbody tr th:only-of-type {\n",
              "        vertical-align: middle;\n",
              "    }\n",
              "\n",
              "    .dataframe tbody tr th {\n",
              "        vertical-align: top;\n",
              "    }\n",
              "\n",
              "    .dataframe thead th {\n",
              "        text-align: right;\n",
              "    }\n",
              "</style>\n",
              "<table border=\"1\" class=\"dataframe\">\n",
              "  <thead>\n",
              "    <tr style=\"text-align: right;\">\n",
              "      <th></th>\n",
              "      <th>PLATAFORMA</th>\n",
              "      <th>TIPO</th>\n",
              "      <th>PROPRIEDADE</th>\n",
              "      <th>LDA</th>\n",
              "      <th>BACIA</th>\n",
              "      <th>RESTRICAO_QUEIMA</th>\n",
              "      <th>TIPO_OPERACAO</th>\n",
              "      <th>IDADE</th>\n",
              "      <th>DURAÇÃO</th>\n",
              "    </tr>\n",
              "  </thead>\n",
              "  <tbody>\n",
              "    <tr>\n",
              "      <th>0</th>\n",
              "      <td>3</td>\n",
              "      <td>1</td>\n",
              "      <td>0</td>\n",
              "      <td>0</td>\n",
              "      <td>0</td>\n",
              "      <td>0</td>\n",
              "      <td>1</td>\n",
              "      <td>3</td>\n",
              "      <td>9</td>\n",
              "    </tr>\n",
              "    <tr>\n",
              "      <th>1</th>\n",
              "      <td>4</td>\n",
              "      <td>1</td>\n",
              "      <td>0</td>\n",
              "      <td>0</td>\n",
              "      <td>0</td>\n",
              "      <td>0</td>\n",
              "      <td>1</td>\n",
              "      <td>3</td>\n",
              "      <td>14</td>\n",
              "    </tr>\n",
              "    <tr>\n",
              "      <th>2</th>\n",
              "      <td>4</td>\n",
              "      <td>1</td>\n",
              "      <td>0</td>\n",
              "      <td>0</td>\n",
              "      <td>0</td>\n",
              "      <td>0</td>\n",
              "      <td>0</td>\n",
              "      <td>3</td>\n",
              "      <td>13</td>\n",
              "    </tr>\n",
              "    <tr>\n",
              "      <th>3</th>\n",
              "      <td>8</td>\n",
              "      <td>1</td>\n",
              "      <td>0</td>\n",
              "      <td>0</td>\n",
              "      <td>0</td>\n",
              "      <td>0</td>\n",
              "      <td>1</td>\n",
              "      <td>4</td>\n",
              "      <td>14</td>\n",
              "    </tr>\n",
              "    <tr>\n",
              "      <th>4</th>\n",
              "      <td>8</td>\n",
              "      <td>1</td>\n",
              "      <td>0</td>\n",
              "      <td>0</td>\n",
              "      <td>0</td>\n",
              "      <td>0</td>\n",
              "      <td>1</td>\n",
              "      <td>6</td>\n",
              "      <td>25</td>\n",
              "    </tr>\n",
              "  </tbody>\n",
              "</table>\n",
              "</div>\n",
              "    <div class=\"colab-df-buttons\">\n",
              "\n",
              "  <div class=\"colab-df-container\">\n",
              "    <button class=\"colab-df-convert\" onclick=\"convertToInteractive('df-946a2f43-a2fb-4813-b345-84680701777a')\"\n",
              "            title=\"Convert this dataframe to an interactive table.\"\n",
              "            style=\"display:none;\">\n",
              "\n",
              "  <svg xmlns=\"http://www.w3.org/2000/svg\" height=\"24px\" viewBox=\"0 -960 960 960\">\n",
              "    <path d=\"M120-120v-720h720v720H120Zm60-500h600v-160H180v160Zm220 220h160v-160H400v160Zm0 220h160v-160H400v160ZM180-400h160v-160H180v160Zm440 0h160v-160H620v160ZM180-180h160v-160H180v160Zm440 0h160v-160H620v160Z\"/>\n",
              "  </svg>\n",
              "    </button>\n",
              "\n",
              "  <style>\n",
              "    .colab-df-container {\n",
              "      display:flex;\n",
              "      gap: 12px;\n",
              "    }\n",
              "\n",
              "    .colab-df-convert {\n",
              "      background-color: #E8F0FE;\n",
              "      border: none;\n",
              "      border-radius: 50%;\n",
              "      cursor: pointer;\n",
              "      display: none;\n",
              "      fill: #1967D2;\n",
              "      height: 32px;\n",
              "      padding: 0 0 0 0;\n",
              "      width: 32px;\n",
              "    }\n",
              "\n",
              "    .colab-df-convert:hover {\n",
              "      background-color: #E2EBFA;\n",
              "      box-shadow: 0px 1px 2px rgba(60, 64, 67, 0.3), 0px 1px 3px 1px rgba(60, 64, 67, 0.15);\n",
              "      fill: #174EA6;\n",
              "    }\n",
              "\n",
              "    .colab-df-buttons div {\n",
              "      margin-bottom: 4px;\n",
              "    }\n",
              "\n",
              "    [theme=dark] .colab-df-convert {\n",
              "      background-color: #3B4455;\n",
              "      fill: #D2E3FC;\n",
              "    }\n",
              "\n",
              "    [theme=dark] .colab-df-convert:hover {\n",
              "      background-color: #434B5C;\n",
              "      box-shadow: 0px 1px 3px 1px rgba(0, 0, 0, 0.15);\n",
              "      filter: drop-shadow(0px 1px 2px rgba(0, 0, 0, 0.3));\n",
              "      fill: #FFFFFF;\n",
              "    }\n",
              "  </style>\n",
              "\n",
              "    <script>\n",
              "      const buttonEl =\n",
              "        document.querySelector('#df-946a2f43-a2fb-4813-b345-84680701777a button.colab-df-convert');\n",
              "      buttonEl.style.display =\n",
              "        google.colab.kernel.accessAllowed ? 'block' : 'none';\n",
              "\n",
              "      async function convertToInteractive(key) {\n",
              "        const element = document.querySelector('#df-946a2f43-a2fb-4813-b345-84680701777a');\n",
              "        const dataTable =\n",
              "          await google.colab.kernel.invokeFunction('convertToInteractive',\n",
              "                                                    [key], {});\n",
              "        if (!dataTable) return;\n",
              "\n",
              "        const docLinkHtml = 'Like what you see? Visit the ' +\n",
              "          '<a target=\"_blank\" href=https://colab.research.google.com/notebooks/data_table.ipynb>data table notebook</a>'\n",
              "          + ' to learn more about interactive tables.';\n",
              "        element.innerHTML = '';\n",
              "        dataTable['output_type'] = 'display_data';\n",
              "        await google.colab.output.renderOutput(dataTable, element);\n",
              "        const docLink = document.createElement('div');\n",
              "        docLink.innerHTML = docLinkHtml;\n",
              "        element.appendChild(docLink);\n",
              "      }\n",
              "    </script>\n",
              "  </div>\n",
              "\n",
              "\n",
              "    <div id=\"df-98715f1c-cad6-42a3-af36-9ab4624048bc\">\n",
              "      <button class=\"colab-df-quickchart\" onclick=\"quickchart('df-98715f1c-cad6-42a3-af36-9ab4624048bc')\"\n",
              "                title=\"Suggest charts\"\n",
              "                style=\"display:none;\">\n",
              "\n",
              "<svg xmlns=\"http://www.w3.org/2000/svg\" height=\"24px\"viewBox=\"0 0 24 24\"\n",
              "     width=\"24px\">\n",
              "    <g>\n",
              "        <path d=\"M19 3H5c-1.1 0-2 .9-2 2v14c0 1.1.9 2 2 2h14c1.1 0 2-.9 2-2V5c0-1.1-.9-2-2-2zM9 17H7v-7h2v7zm4 0h-2V7h2v10zm4 0h-2v-4h2v4z\"/>\n",
              "    </g>\n",
              "</svg>\n",
              "      </button>\n",
              "\n",
              "<style>\n",
              "  .colab-df-quickchart {\n",
              "      --bg-color: #E8F0FE;\n",
              "      --fill-color: #1967D2;\n",
              "      --hover-bg-color: #E2EBFA;\n",
              "      --hover-fill-color: #174EA6;\n",
              "      --disabled-fill-color: #AAA;\n",
              "      --disabled-bg-color: #DDD;\n",
              "  }\n",
              "\n",
              "  [theme=dark] .colab-df-quickchart {\n",
              "      --bg-color: #3B4455;\n",
              "      --fill-color: #D2E3FC;\n",
              "      --hover-bg-color: #434B5C;\n",
              "      --hover-fill-color: #FFFFFF;\n",
              "      --disabled-bg-color: #3B4455;\n",
              "      --disabled-fill-color: #666;\n",
              "  }\n",
              "\n",
              "  .colab-df-quickchart {\n",
              "    background-color: var(--bg-color);\n",
              "    border: none;\n",
              "    border-radius: 50%;\n",
              "    cursor: pointer;\n",
              "    display: none;\n",
              "    fill: var(--fill-color);\n",
              "    height: 32px;\n",
              "    padding: 0;\n",
              "    width: 32px;\n",
              "  }\n",
              "\n",
              "  .colab-df-quickchart:hover {\n",
              "    background-color: var(--hover-bg-color);\n",
              "    box-shadow: 0 1px 2px rgba(60, 64, 67, 0.3), 0 1px 3px 1px rgba(60, 64, 67, 0.15);\n",
              "    fill: var(--button-hover-fill-color);\n",
              "  }\n",
              "\n",
              "  .colab-df-quickchart-complete:disabled,\n",
              "  .colab-df-quickchart-complete:disabled:hover {\n",
              "    background-color: var(--disabled-bg-color);\n",
              "    fill: var(--disabled-fill-color);\n",
              "    box-shadow: none;\n",
              "  }\n",
              "\n",
              "  .colab-df-spinner {\n",
              "    border: 2px solid var(--fill-color);\n",
              "    border-color: transparent;\n",
              "    border-bottom-color: var(--fill-color);\n",
              "    animation:\n",
              "      spin 1s steps(1) infinite;\n",
              "  }\n",
              "\n",
              "  @keyframes spin {\n",
              "    0% {\n",
              "      border-color: transparent;\n",
              "      border-bottom-color: var(--fill-color);\n",
              "      border-left-color: var(--fill-color);\n",
              "    }\n",
              "    20% {\n",
              "      border-color: transparent;\n",
              "      border-left-color: var(--fill-color);\n",
              "      border-top-color: var(--fill-color);\n",
              "    }\n",
              "    30% {\n",
              "      border-color: transparent;\n",
              "      border-left-color: var(--fill-color);\n",
              "      border-top-color: var(--fill-color);\n",
              "      border-right-color: var(--fill-color);\n",
              "    }\n",
              "    40% {\n",
              "      border-color: transparent;\n",
              "      border-right-color: var(--fill-color);\n",
              "      border-top-color: var(--fill-color);\n",
              "    }\n",
              "    60% {\n",
              "      border-color: transparent;\n",
              "      border-right-color: var(--fill-color);\n",
              "    }\n",
              "    80% {\n",
              "      border-color: transparent;\n",
              "      border-right-color: var(--fill-color);\n",
              "      border-bottom-color: var(--fill-color);\n",
              "    }\n",
              "    90% {\n",
              "      border-color: transparent;\n",
              "      border-bottom-color: var(--fill-color);\n",
              "    }\n",
              "  }\n",
              "</style>\n",
              "\n",
              "      <script>\n",
              "        async function quickchart(key) {\n",
              "          const quickchartButtonEl =\n",
              "            document.querySelector('#' + key + ' button');\n",
              "          quickchartButtonEl.disabled = true;  // To prevent multiple clicks.\n",
              "          quickchartButtonEl.classList.add('colab-df-spinner');\n",
              "          try {\n",
              "            const charts = await google.colab.kernel.invokeFunction(\n",
              "                'suggestCharts', [key], {});\n",
              "          } catch (error) {\n",
              "            console.error('Error during call to suggestCharts:', error);\n",
              "          }\n",
              "          quickchartButtonEl.classList.remove('colab-df-spinner');\n",
              "          quickchartButtonEl.classList.add('colab-df-quickchart-complete');\n",
              "        }\n",
              "        (() => {\n",
              "          let quickchartButtonEl =\n",
              "            document.querySelector('#df-98715f1c-cad6-42a3-af36-9ab4624048bc button');\n",
              "          quickchartButtonEl.style.display =\n",
              "            google.colab.kernel.accessAllowed ? 'block' : 'none';\n",
              "        })();\n",
              "      </script>\n",
              "    </div>\n",
              "\n",
              "    </div>\n",
              "  </div>\n"
            ],
            "application/vnd.google.colaboratory.intrinsic+json": {
              "type": "dataframe",
              "summary": "{\n  \"name\": \"display(dataset\",\n  \"rows\": 5,\n  \"fields\": [\n    {\n      \"column\": \"PLATAFORMA\",\n      \"properties\": {\n        \"dtype\": \"number\",\n        \"std\": 2,\n        \"min\": 3,\n        \"max\": 8,\n        \"num_unique_values\": 3,\n        \"samples\": [\n          3,\n          4,\n          8\n        ],\n        \"semantic_type\": \"\",\n        \"description\": \"\"\n      }\n    },\n    {\n      \"column\": \"TIPO\",\n      \"properties\": {\n        \"dtype\": \"number\",\n        \"std\": 0,\n        \"min\": 1,\n        \"max\": 1,\n        \"num_unique_values\": 1,\n        \"samples\": [\n          1\n        ],\n        \"semantic_type\": \"\",\n        \"description\": \"\"\n      }\n    },\n    {\n      \"column\": \"PROPRIEDADE\",\n      \"properties\": {\n        \"dtype\": \"number\",\n        \"std\": 0,\n        \"min\": 0,\n        \"max\": 0,\n        \"num_unique_values\": 1,\n        \"samples\": [\n          0\n        ],\n        \"semantic_type\": \"\",\n        \"description\": \"\"\n      }\n    },\n    {\n      \"column\": \"LDA\",\n      \"properties\": {\n        \"dtype\": \"number\",\n        \"std\": 0,\n        \"min\": 0,\n        \"max\": 0,\n        \"num_unique_values\": 1,\n        \"samples\": [\n          0\n        ],\n        \"semantic_type\": \"\",\n        \"description\": \"\"\n      }\n    },\n    {\n      \"column\": \"BACIA\",\n      \"properties\": {\n        \"dtype\": \"number\",\n        \"std\": 0,\n        \"min\": 0,\n        \"max\": 0,\n        \"num_unique_values\": 1,\n        \"samples\": [\n          0\n        ],\n        \"semantic_type\": \"\",\n        \"description\": \"\"\n      }\n    },\n    {\n      \"column\": \"RESTRICAO_QUEIMA\",\n      \"properties\": {\n        \"dtype\": \"number\",\n        \"std\": 0,\n        \"min\": 0,\n        \"max\": 0,\n        \"num_unique_values\": 1,\n        \"samples\": [\n          0\n        ],\n        \"semantic_type\": \"\",\n        \"description\": \"\"\n      }\n    },\n    {\n      \"column\": \"TIPO_OPERACAO\",\n      \"properties\": {\n        \"dtype\": \"number\",\n        \"std\": 0,\n        \"min\": 0,\n        \"max\": 1,\n        \"num_unique_values\": 2,\n        \"samples\": [\n          0\n        ],\n        \"semantic_type\": \"\",\n        \"description\": \"\"\n      }\n    },\n    {\n      \"column\": \"IDADE\",\n      \"properties\": {\n        \"dtype\": \"number\",\n        \"std\": 1,\n        \"min\": 3,\n        \"max\": 6,\n        \"num_unique_values\": 3,\n        \"samples\": [\n          3\n        ],\n        \"semantic_type\": \"\",\n        \"description\": \"\"\n      }\n    },\n    {\n      \"column\": \"DURA\\u00c7\\u00c3O\",\n      \"properties\": {\n        \"dtype\": \"number\",\n        \"std\": 5,\n        \"min\": 9,\n        \"max\": 25,\n        \"num_unique_values\": 4,\n        \"samples\": [\n          14\n        ],\n        \"semantic_type\": \"\",\n        \"description\": \"\"\n      }\n    }\n  ]\n}"
            }
          },
          "metadata": {}
        }
      ]
    },
    {
      "cell_type": "markdown",
      "source": [
        "### 3.2- Configuração da Seed Global e Parâmetros dos *ensembles*\n",
        "Configuração de uma seed única para todas as bibliotecas utilizadas no projeto de forma a garantir a reprodutibilidade do código, com os mesmos resultados.\n",
        "\n",
        "Definição dos parâmetros dos *ensembles*: num_trees e max_features"
      ],
      "metadata": {
        "id": "GrpVaVjcFUlc"
      }
    },
    {
      "cell_type": "code",
      "source": [
        "# Definindo uma seed global\n",
        "num_seed = 7\n",
        "np.random.seed(num_seed)\n",
        "\n",
        "# Definindo parâmetros dos ensembles\n",
        "num_trees = 100 # número de árvores\n",
        "max_features = 3 # número de features a considerar ao procurar a melhor divisão"
      ],
      "metadata": {
        "id": "wDxnSW_YFVN3"
      },
      "execution_count": 17,
      "outputs": []
    },
    {
      "cell_type": "markdown",
      "source": [
        "### 3.3- Seleção do target\n",
        "O taget do dataset é **DURACAO**, atributo para qual se deseja fazer a predição do valor de saída numérico."
      ],
      "metadata": {
        "id": "MVZYPtIoOSrs"
      }
    },
    {
      "cell_type": "code",
      "source": [
        "# separação dos atributos da target\n",
        "array = dataset.values\n",
        "X = array[:,0:8] # atributos\n",
        "y = array[:,8] # classe (target)"
      ],
      "metadata": {
        "id": "IYGR7m_aOS4K"
      },
      "execution_count": 18,
      "outputs": []
    },
    {
      "cell_type": "markdown",
      "source": [
        "### 3.4- Seleção de atributos\n",
        "\n",
        "Aplicação de métodos de feature selection para avaliação e seleção (se aplicável) de atributos do modelo original.\n",
        "Serão utlizados os seguintes métodos:\n",
        "- SelectKBest\n",
        "- Eliminação Recursiva de Atributos com GradienBoosting\n",
        "- Eliminação Recursiva de Atributos com RandomForest\n",
        "- Importância de Atributos com ExtraTree, com uso do DecisionTree"
      ],
      "metadata": {
        "id": "Sh08Kqnr1ngo"
      }
    },
    {
      "cell_type": "code",
      "source": [
        "# dataframe para guardar as pontuações dos modelos\n",
        "df_pontuacoes = pd.DataFrame({'Atributos': dataset.columns[0:8].tolist()})\n",
        "df_pontuacoes = df_pontuacoes.set_index('Atributos')\n",
        "\n",
        "# Seleção de atributos com SelectKBest\n",
        "# Executa a função de pontuação em (X, y) e obtém os atributos selecionados\n",
        "best_var = SelectKBest(score_func=f_classif, k=4)\n",
        "fit = best_var.fit(X, y)\n",
        "df_pontuacoes[\"SelectKBest\"] = fit.scores_\n",
        "\n",
        "# Eliminação Recursiva de Atributos com GradientBoosting\n",
        "modelo = GradientBoostingRegressor(n_estimators=num_trees, random_state=num_seed)\n",
        "rfe = RFE(modelo, n_features_to_select=1)\n",
        "fit =  rfe.fit(X, y)\n",
        "df_pontuacoes[\"ERA GB\"] = fit.ranking_\n",
        "\n",
        "# Eliminação Recursiva de Atributos com RandomForest\n",
        "modelo = RandomForestRegressor(n_estimators=num_trees, max_features=max_features, random_state=num_seed)\n",
        "rfe = RFE(modelo, n_features_to_select=1)\n",
        "fit =  rfe.fit(X, y)\n",
        "df_pontuacoes[\"ERA RF\"] = fit.ranking_\n",
        "\n",
        "#Importância de Atributos com ExtraTrees\n",
        "modelo = DecisionTreeRegressor()\n",
        "modelo.fit(X,y)\n",
        "df_pontuacoes[\"ET\"] = modelo.feature_importances_\n",
        "\n",
        "# exibe os resultados dos modelos aplicados\n",
        "print(\"\\nScores dos Atributos Originais:\")\n",
        "print(tabulate(df_pontuacoes, headers=['Atributo', 'SelectKBest', 'ERA GB', 'ERA RF', 'ET'], tablefmt=\"rounded_grid\"))\n"
      ],
      "metadata": {
        "colab": {
          "base_uri": "https://localhost:8080/"
        },
        "id": "TE5u1Lfm2dfh",
        "outputId": "98a7ea1a-5b1e-49ad-c51e-833d53fafbc5"
      },
      "execution_count": 19,
      "outputs": [
        {
          "output_type": "stream",
          "name": "stdout",
          "text": [
            "\n",
            "Scores dos Atributos Originais:\n",
            "╭──────────────────┬───────────────┬──────────┬──────────┬────────────╮\n",
            "│ Atributo         │   SelectKBest │   ERA GB │   ERA RF │         ET │\n",
            "├──────────────────┼───────────────┼──────────┼──────────┼────────────┤\n",
            "│ PLATAFORMA       │      1.73115  │        1 │        1 │ 0.161992   │\n",
            "├──────────────────┼───────────────┼──────────┼──────────┼────────────┤\n",
            "│ TIPO             │      1.81023  │        5 │        6 │ 0.0281086  │\n",
            "├──────────────────┼───────────────┼──────────┼──────────┼────────────┤\n",
            "│ PROPRIEDADE      │      2.33002  │        8 │        7 │ 0.0015056  │\n",
            "├──────────────────┼───────────────┼──────────┼──────────┼────────────┤\n",
            "│ LDA              │      1.49739  │        4 │        4 │ 0.0915464  │\n",
            "├──────────────────┼───────────────┼──────────┼──────────┼────────────┤\n",
            "│ BACIA            │      1.98732  │        3 │        3 │ 0.155645   │\n",
            "├──────────────────┼───────────────┼──────────┼──────────┼────────────┤\n",
            "│ RESTRICAO_QUEIMA │      0.914817 │        7 │        8 │ 0.00192279 │\n",
            "├──────────────────┼───────────────┼──────────┼──────────┼────────────┤\n",
            "│ TIPO_OPERACAO    │      1.06747  │        6 │        5 │ 0.0510008  │\n",
            "├──────────────────┼───────────────┼──────────┼──────────┼────────────┤\n",
            "│ IDADE            │      3.17089  │        2 │        2 │ 0.508279   │\n",
            "╰──────────────────┴───────────────┴──────────┴──────────┴────────────╯\n"
          ]
        }
      ]
    },
    {
      "cell_type": "markdown",
      "source": [
        "Pela análise do resultado dos scores dos atributos originais, os dois métódos de **Eliminação Recursiva de Atributos** e o de **Importância de Atributos** convergiram no ranqueamento para os quatro primeiros colocados: IDADE, PLATAFORMA, LDA e BACIA.\n",
        "\n",
        "Será aplicado a Eliminação Recursiva de Atributos com GradientBoosting para a seleção dos quatro atributos melhor ranqueados."
      ],
      "metadata": {
        "id": "jgsO71fzwWAw"
      }
    },
    {
      "cell_type": "code",
      "source": [
        "# Eliminação Recursiva de Atributos com GradientBoosting, selecionando os quatro atributos melhor ranqueados\n",
        "modelo = GradientBoostingRegressor(n_estimators=num_trees, random_state=num_seed)\n",
        "rfe = RFE(modelo, n_features_to_select=4)\n",
        "fit =  rfe.fit(X, y)\n",
        "X = fit.transform(X)"
      ],
      "metadata": {
        "id": "ZjYvKCPZyJHQ"
      },
      "execution_count": 20,
      "outputs": []
    },
    {
      "cell_type": "markdown",
      "source": [
        "### 3.5- Separação do dataset em conjuntos de treino e de teste\n",
        "\n",
        "\n",
        "---\n",
        "\n",
        "Aplicação do holdout para efetuar a divisão em bases de treino (80%) e teste (20%).\n"
      ],
      "metadata": {
        "id": "MCjxu_elJpIM"
      }
    },
    {
      "cell_type": "code",
      "source": [
        "# Separação em bases de treino e teste (holdout)\n",
        "X_treino, X_teste, y_treino, y_teste = train_test_split(X, y, test_size=0.20, random_state=num_seed) # faz a divisão em bases de treino e teste\n"
      ],
      "metadata": {
        "id": "i9dh7WkPOR8a"
      },
      "execution_count": 21,
      "outputs": []
    },
    {
      "cell_type": "markdown",
      "source": [
        "# 4. Modelagem e inferência\n",
        "\n",
        "\n",
        "---\n",
        "\n"
      ],
      "metadata": {
        "id": "wh_4H8-LKf7a"
      }
    },
    {
      "cell_type": "markdown",
      "source": [
        "### 4.1- Criação e avaliação de modelos com dados da linha base\n",
        "\n",
        "Como não há conhecimento prévio de quais algoritmos performarão bem nesse conjunto de dados, será utilizada a configuração padrão da biblioteca *scikit-learn*, ou seja, sem **variação de seus hiperparâmetros**.\n",
        "\n",
        "Além disso, será aplicado o método de **validação cruzada** com separação em 10 folds e uso do erro quadrático médio para avaliação do desempenho, e os resultados serão comparados graficamente por meio de boxplots. Serão avaliados o MSE e o RMSE dos modelos treinados.\n",
        "\n",
        "Serão criados os modelos com os algoritmos **regressão linear**, **regressão linear com regularização Ridge**, **regressão linear com regularização Lasso**, **KNN**, **árvore de regressão** e **SVM**.\n",
        "\n",
        "Também serão criados os seguintes modelos *ensemble*:\n",
        "*   **Bagging**\n",
        "*   **Random Forest**\n",
        "*   **Extra Trees**\n",
        "*   **Ada Boost**\n",
        "*   **Gradient Boosting**\n",
        "*   **Voting**\n",
        "\n",
        "\n",
        "\n",
        "\n",
        "\n",
        "\n",
        "\n",
        "\n"
      ],
      "metadata": {
        "id": "TLq95SR7PbyC"
      }
    },
    {
      "cell_type": "code",
      "source": [
        "# Criando os folds para a validação cruzada\n",
        "num_particoes = 10 # número de folds da validação cruzada\n",
        "scoring='neg_mean_squared_error' # usa erro quadrático médio para avaliação do desempenho da validação cruzada\n",
        "kfold = KFold(n_splits=num_particoes, shuffle=True, random_state=num_seed) # faz o particionamento em 10 folds\n",
        "\n",
        "# Listas para armazenar os modelos, os resultados e nomes dos modelos\n",
        "modelos = []\n",
        "resultados = []\n",
        "nomes = []\n",
        "tabela = []\n",
        "\n",
        "# Preparando os modelos de regressão e adicionando-os em uma lista\n",
        "modelos.append(('LR', LinearRegression()))\n",
        "modelos.append(('Ridge', Ridge()))\n",
        "modelos.append(('Lasso', Lasso()))\n",
        "modelos.append(('KNN', KNeighborsRegressor()))\n",
        "modelos.append(('CART', DecisionTreeRegressor()))\n",
        "modelos.append(('SVM', SVR()))\n",
        "\n",
        "# Definindo os parâmetros do classificador base para o BaggingRegressor\n",
        "base = DecisionTreeRegressor()\n",
        "\n",
        "# Para o VotingRegressor serão criado os modelos regressão linear, árvore de regressão e SVR\n",
        "bases = []\n",
        "bases.append(('logistic', LinearRegression()))\n",
        "bases.append(('KNN', KNeighborsRegressor()))\n",
        "bases.append(('SVR', SVR()))\n",
        "\n",
        "# Criando os ensembles e adicionando-os na lista de modelos\n",
        "modelos.append(('Bagging', BaggingRegressor(estimator=base, n_estimators=num_trees, random_state=num_seed)))\n",
        "modelos.append(('RF', RandomForestRegressor(n_estimators=num_trees, max_features=max_features, random_state=num_seed)))\n",
        "modelos.append(('ET', ExtraTreesRegressor(n_estimators=num_trees, max_features=max_features, random_state=num_seed)))\n",
        "modelos.append(('Ada', AdaBoostRegressor(n_estimators=num_trees, random_state=num_seed)))\n",
        "modelos.append(('GB', GradientBoostingRegressor(n_estimators=num_trees, random_state=num_seed)))\n",
        "modelos.append(('Voting', VotingRegressor(bases)))\n",
        "\n",
        "# Avaliando um modelo por vez\n",
        "for nome, modelo in modelos:\n",
        "  cv_resultados = cross_val_score(modelo, X_treino, y_treino, cv=kfold, scoring=scoring)\n",
        "  resultados.append(cv_resultados)\n",
        "  nomes.append(nome)\n",
        "  # imprime MSE, desvio padrão do MSE e RMSE dos 10 resultados da validação cruzada\n",
        "  #msg = \"%s: MSE %0.2f (%0.2f) - RMSE %0.2f\" % (nome, abs(cv_resultados.mean()), cv_resultados.std(), np.sqrt(abs(cv_resultados.mean())))\n",
        "  #print(msg)\n",
        "  mse = \"%0.2f (%0.2f)\" % (abs(cv_resultados.mean()), cv_resultados.std())\n",
        "  rmse = \"%0.2f\" % (np.sqrt(abs(cv_resultados.mean())))\n",
        "  tabela.append([nome, mse, rmse])\n",
        "\n",
        "print(tabulate(tabela, headers=['Modelo', 'MSE', 'RMSE'], tablefmt=\"rounded_grid\"))\n",
        "# Boxplot de comparação dos modelos\n",
        "fig = plt.figure()\n",
        "fig.suptitle('Comparação do MSE dos Modelos')\n",
        "ax = fig.add_subplot(111)\n",
        "plt.boxplot(resultados)\n",
        "ax.set_xticklabels(nomes, rotation=90)\n",
        "plt.show()"
      ],
      "metadata": {
        "colab": {
          "base_uri": "https://localhost:8080/",
          "height": 999
        },
        "id": "WANJOp-kPPfV",
        "outputId": "88f27345-c6b5-4a46-87fd-cde35972b62c"
      },
      "execution_count": 22,
      "outputs": [
        {
          "output_type": "stream",
          "name": "stdout",
          "text": [
            "╭──────────┬─────────────────┬────────╮\n",
            "│ Modelo   │ MSE             │   RMSE │\n",
            "├──────────┼─────────────────┼────────┤\n",
            "│ LR       │ 737.15 (802.96) │  27.15 │\n",
            "├──────────┼─────────────────┼────────┤\n",
            "│ Ridge    │ 736.69 (803.14) │  27.14 │\n",
            "├──────────┼─────────────────┼────────┤\n",
            "│ Lasso    │ 729.41 (811.54) │  27.01 │\n",
            "├──────────┼─────────────────┼────────┤\n",
            "│ KNN      │ 745.71 (799.62) │  27.31 │\n",
            "├──────────┼─────────────────┼────────┤\n",
            "│ CART     │ 871.95 (726.71) │  29.53 │\n",
            "├──────────┼─────────────────┼────────┤\n",
            "│ SVM      │ 779.41 (832.18) │  27.92 │\n",
            "├──────────┼─────────────────┼────────┤\n",
            "│ Bagging  │ 704.82 (743.86) │  26.55 │\n",
            "├──────────┼─────────────────┼────────┤\n",
            "│ RF       │ 704.45 (751.67) │  26.54 │\n",
            "├──────────┼─────────────────┼────────┤\n",
            "│ ET       │ 808.39 (687.89) │  28.43 │\n",
            "├──────────┼─────────────────┼────────┤\n",
            "│ Ada      │ 801.82 (846.68) │  28.32 │\n",
            "├──────────┼─────────────────┼────────┤\n",
            "│ GB       │ 760.04 (788.55) │  27.57 │\n",
            "├──────────┼─────────────────┼────────┤\n",
            "│ Voting   │ 708.67 (808.06) │  26.62 │\n",
            "╰──────────┴─────────────────┴────────╯\n"
          ]
        },
        {
          "output_type": "display_data",
          "data": {
            "text/plain": [
              "<Figure size 640x480 with 1 Axes>"
            ],
            "image/png": "[encoded data removed]"
          },
          "metadata": {}
        }
      ]
    },
    {
      "cell_type": "markdown",
      "source": [
        "### 4.2- Criação e avaliação de modelos com dados normalizados e padronizados\n",
        "O processo será repetido, utilizando a biblioteca **Pipeline** para criar e avaliar os modelos através da **validação cruzada** com os dados **padronizados** e **normalizados** (evitando o *data leakage*). Os resultados serão comparados com os modelos treinados com o dataset original."
      ],
      "metadata": {
        "id": "Khiq1m9MQHd7"
      }
    },
    {
      "cell_type": "code",
      "source": [
        "# Listas para armazenar os pipelines e os resultados para todas as visões do dataset\n",
        "pipelines = []\n",
        "resultados = []\n",
        "nomes = []\n",
        "tabela = []\n",
        "\n",
        "# Criando os elementos do pipeline\n",
        "modelos.append(('LR', LinearRegression()))\n",
        "modelos.append(('Ridge', Ridge()))\n",
        "modelos.append(('Lasso', Lasso()))\n",
        "modelos.append(('KNN', KNeighborsRegressor()))\n",
        "modelos.append(('CART', DecisionTreeRegressor()))\n",
        "modelos.append(('SVR', SVR()))\n",
        "\n",
        "# Algoritmos que serão utilizados\n",
        "reg_lin = ('LR', LinearRegression())\n",
        "knn = ('KNN', KNeighborsRegressor())\n",
        "ridge = ('Ridge', Ridge())\n",
        "lasso = ('Lasso', Lasso())\n",
        "cart = ('CART', DecisionTreeRegressor())\n",
        "svm = ('SVR', SVR())\n",
        "bagging = ('Bag', BaggingRegressor(estimator=base, n_estimators=num_trees, random_state=num_seed))\n",
        "random_forest = ('RF', RandomForestRegressor(n_estimators=num_trees, max_features=max_features, random_state=num_seed))\n",
        "extra_trees = ('ET', ExtraTreesRegressor(n_estimators=num_trees, max_features=max_features, random_state=num_seed))\n",
        "adaboost = ('Ada', AdaBoostRegressor(n_estimators=num_trees, random_state=num_seed))\n",
        "gradient_boosting = ('GB', GradientBoostingRegressor(n_estimators=num_trees, random_state=num_seed))\n",
        "voting = ('Voting', VotingRegressor(bases))\n",
        "\n",
        "# Transformações que serão utilizadas\n",
        "standard_scaler = ('StandardScaler', StandardScaler())\n",
        "min_max_scaler = ('MinMaxScaler', MinMaxScaler())\n",
        "\n",
        "# Montando os pipelines\n",
        "\n",
        "# Dataset original\n",
        "pipelines.append(('LR-orig', Pipeline([reg_lin])))\n",
        "pipelines.append(('KNN-orig', Pipeline([knn])))\n",
        "pipelines.append(('Ridge-orig', Pipeline([ridge])))\n",
        "pipelines.append(('Lasso-orig', Pipeline([lasso])))\n",
        "pipelines.append(('CART-orig', Pipeline([cart])))\n",
        "pipelines.append(('SVR-orig', Pipeline([svm])))\n",
        "pipelines.append(('Bag-orig', Pipeline([bagging])))\n",
        "pipelines.append(('RF-orig', Pipeline([random_forest])))\n",
        "pipelines.append(('ET-orig', Pipeline([extra_trees])))\n",
        "pipelines.append(('Ada-orig', Pipeline([adaboost])))\n",
        "pipelines.append(('GB-orig', Pipeline([gradient_boosting])))\n",
        "pipelines.append(('Vot-orig', Pipeline([voting])))\n",
        "\n",
        "# Dataset Padronizado\n",
        "pipelines.append(('LR-padr', Pipeline([standard_scaler, reg_lin])))\n",
        "pipelines.append(('KNN-padr', Pipeline([standard_scaler, knn])))\n",
        "pipelines.append(('Ridge-padr', Pipeline([standard_scaler, ridge])))\n",
        "pipelines.append(('Lasso-padr', Pipeline([standard_scaler,lasso])))\n",
        "pipelines.append(('CART-padr', Pipeline([standard_scaler, cart])))\n",
        "pipelines.append(('SVR-padr', Pipeline([standard_scaler, svm])))\n",
        "pipelines.append(('Bag-padr', Pipeline([standard_scaler, bagging])))\n",
        "pipelines.append(('RF-padr', Pipeline([standard_scaler, random_forest])))\n",
        "pipelines.append(('ET-padr', Pipeline([standard_scaler, extra_trees])))\n",
        "pipelines.append(('Ada-padr', Pipeline([standard_scaler, adaboost])))\n",
        "pipelines.append(('GB-padr', Pipeline([standard_scaler, gradient_boosting])))\n",
        "pipelines.append(('Vot-padr', Pipeline([standard_scaler, voting])))\n",
        "\n",
        "# Dataset Normalizado\n",
        "pipelines.append(('LR-norm', Pipeline([min_max_scaler, reg_lin])))\n",
        "pipelines.append(('KNN-norm', Pipeline([min_max_scaler, knn])))\n",
        "pipelines.append(('Ridge-norm', Pipeline([min_max_scaler, ridge])))\n",
        "pipelines.append(('Lasso-norm', Pipeline([min_max_scaler,lasso])))\n",
        "pipelines.append(('CART-norm', Pipeline([min_max_scaler, cart])))\n",
        "pipelines.append(('SVR-norm', Pipeline([min_max_scaler, svm])))\n",
        "pipelines.append(('Bag-norm', Pipeline([min_max_scaler, bagging])))\n",
        "pipelines.append(('RF-norm', Pipeline([min_max_scaler, random_forest])))\n",
        "pipelines.append(('ET-norm', Pipeline([min_max_scaler, extra_trees])))\n",
        "pipelines.append(('Ada-norm', Pipeline([min_max_scaler, adaboost])))\n",
        "pipelines.append(('GB-norm', Pipeline([min_max_scaler, gradient_boosting])))\n",
        "pipelines.append(('Vot-norm', Pipeline([min_max_scaler, voting])))\n",
        "\n",
        "# Executando os pipelines\n",
        "for nome, modelo in pipelines:\n",
        "    cv_resultados = cross_val_score(modelo, X_treino, y_treino, cv=kfold, scoring=scoring)\n",
        "    resultados.append(cv_resultados)\n",
        "    nomes.append(nome)\n",
        "    # imprime MSE, desvio padrão do MSE e RMSE dos 10 resultados da validação cruzada\n",
        "    #msg = \"%s: MSE %0.2f (%0.2f) - RMSE %0.2f\" % (nome, abs(cv_resultados.mean()), cv_resultados.std(), np.sqrt(abs(cv_resultados.mean())))\n",
        "    #print(msg)\n",
        "    mse = \"%0.2f (%0.2f)\" % (abs(cv_resultados.mean()), cv_resultados.std())\n",
        "    rmse = \"%0.2f\" % (np.sqrt(abs(cv_resultados.mean())))\n",
        "    tabela.append([nome, mse, rmse])\n",
        "\n",
        "print(tabulate(tabela, headers=['Modelo', 'MSE', 'RMSE'], tablefmt=\"rounded_grid\"))\n",
        "\n",
        "# Boxplot de comparação dos modelos\n",
        "fig = plt.figure(figsize=(25,6))\n",
        "fig.suptitle('Comparação dos Modelos - Dataset orginal, padronizado e normalizado')\n",
        "ax = fig.add_subplot(111)\n",
        "plt.boxplot(resultados)\n",
        "ax.set_xticklabels(nomes, rotation=90)\n",
        "plt.show()"
      ],
      "metadata": {
        "colab": {
          "base_uri": "https://localhost:8080/",
          "height": 1000
        },
        "id": "1ynKmsGYP9zk",
        "outputId": "7249d1fa-6336-42ef-c7f2-2daeae242abe"
      },
      "execution_count": 23,
      "outputs": [
        {
          "output_type": "stream",
          "name": "stdout",
          "text": [
            "╭────────────┬─────────────────┬────────╮\n",
            "│ Modelo     │ MSE             │   RMSE │\n",
            "├────────────┼─────────────────┼────────┤\n",
            "│ LR-orig    │ 737.15 (802.96) │  27.15 │\n",
            "├────────────┼─────────────────┼────────┤\n",
            "│ KNN-orig   │ 745.71 (799.62) │  27.31 │\n",
            "├────────────┼─────────────────┼────────┤\n",
            "│ Ridge-orig │ 736.69 (803.14) │  27.14 │\n",
            "├────────────┼─────────────────┼────────┤\n",
            "│ Lasso-orig │ 729.41 (811.54) │  27.01 │\n",
            "├────────────┼─────────────────┼────────┤\n",
            "│ CART-orig  │ 898.52 (744.46) │  29.98 │\n",
            "├────────────┼─────────────────┼────────┤\n",
            "│ SVR-orig   │ 779.41 (832.18) │  27.92 │\n",
            "├────────────┼─────────────────┼────────┤\n",
            "│ Bag-orig   │ 704.82 (743.86) │  26.55 │\n",
            "├────────────┼─────────────────┼────────┤\n",
            "│ RF-orig    │ 704.45 (751.67) │  26.54 │\n",
            "├────────────┼─────────────────┼────────┤\n",
            "│ ET-orig    │ 808.39 (687.89) │  28.43 │\n",
            "├────────────┼─────────────────┼────────┤\n",
            "│ Ada-orig   │ 801.82 (846.68) │  28.32 │\n",
            "├────────────┼─────────────────┼────────┤\n",
            "│ GB-orig    │ 760.04 (788.55) │  27.57 │\n",
            "├────────────┼─────────────────┼────────┤\n",
            "│ Vot-orig   │ 708.67 (808.06) │  26.62 │\n",
            "├────────────┼─────────────────┼────────┤\n",
            "│ LR-padr    │ 737.15 (802.96) │  27.15 │\n",
            "├────────────┼─────────────────┼────────┤\n",
            "│ KNN-padr   │ 778.44 (769.97) │  27.9  │\n",
            "├────────────┼─────────────────┼────────┤\n",
            "│ Ridge-padr │ 736.92 (803.10) │  27.15 │\n",
            "├────────────┼─────────────────┼────────┤\n",
            "│ Lasso-padr │ 730.02 (809.11) │  27.02 │\n",
            "├────────────┼─────────────────┼────────┤\n",
            "│ CART-padr  │ 843.40 (764.50) │  29.04 │\n",
            "├────────────┼─────────────────┼────────┤\n",
            "│ SVR-padr   │ 763.99 (836.58) │  27.64 │\n",
            "├────────────┼─────────────────┼────────┤\n",
            "│ Bag-padr   │ 702.45 (743.77) │  26.5  │\n",
            "├────────────┼─────────────────┼────────┤\n",
            "│ RF-padr    │ 704.36 (753.34) │  26.54 │\n",
            "├────────────┼─────────────────┼────────┤\n",
            "│ ET-padr    │ 808.39 (687.89) │  28.43 │\n",
            "├────────────┼─────────────────┼────────┤\n",
            "│ Ada-padr   │ 807.88 (817.90) │  28.42 │\n",
            "├────────────┼─────────────────┼────────┤\n",
            "│ GB-padr    │ 760.77 (788.45) │  27.58 │\n",
            "├────────────┼─────────────────┼────────┤\n",
            "│ Vot-padr   │ 713.20 (804.60) │  26.71 │\n",
            "├────────────┼─────────────────┼────────┤\n",
            "│ LR-norm    │ 737.15 (802.96) │  27.15 │\n",
            "├────────────┼─────────────────┼────────┤\n",
            "│ KNN-norm   │ 763.29 (754.50) │  27.63 │\n",
            "├────────────┼─────────────────┼────────┤\n",
            "│ Ridge-norm │ 735.88 (802.91) │  27.13 │\n",
            "├────────────┼─────────────────┼────────┤\n",
            "│ Lasso-norm │ 746.93 (805.40) │  27.33 │\n",
            "├────────────┼─────────────────┼────────┤\n",
            "│ CART-norm  │ 904.77 (728.41) │  30.08 │\n",
            "├────────────┼─────────────────┼────────┤\n",
            "│ SVR-norm   │ 773.92 (836.34) │  27.82 │\n",
            "├────────────┼─────────────────┼────────┤\n",
            "│ Bag-norm   │ 739.32 (737.82) │  27.19 │\n",
            "├────────────┼─────────────────┼────────┤\n",
            "│ RF-norm    │ 722.49 (746.31) │  26.88 │\n",
            "├────────────┼─────────────────┼────────┤\n",
            "│ ET-norm    │ 808.39 (687.89) │  28.43 │\n",
            "├────────────┼─────────────────┼────────┤\n",
            "│ Ada-norm   │ 985.90 (894.23) │  31.4  │\n",
            "├────────────┼─────────────────┼────────┤\n",
            "│ GB-norm    │ 760.12 (788.94) │  27.57 │\n",
            "├────────────┼─────────────────┼────────┤\n",
            "│ Vot-norm   │ 712.19 (799.88) │  26.69 │\n",
            "╰────────────┴─────────────────┴────────╯\n"
          ]
        },
        {
          "output_type": "display_data",
          "data": {
            "text/plain": [
              "<Figure size 2500x600 with 1 Axes>"
            ],
            "image/png": "[encoded data removed]"
          },
          "metadata": {}
        }
      ]
    },
    {
      "cell_type": "markdown",
      "source": [
        "### 4.3- Otimização dos Hiperparâmetros\n",
        "Pela análise dos resultados dos modelos utilizados neste trabalho, o **Bagging** com **dados padronizados** apresentou melhor resultado (MSE 699,62 e RMSE 26,45).\n",
        "\n",
        "Analisando apenas os modelos aplicados sobre os dados originais, o **Bagging** também performou melhor (MSE 701,07 e RMSE 26,48).\n",
        "\n",
        "Para os dados normalizados, o **Bagging** já não apresentou a melhor performance, ficando atrás de outros modelos.\n",
        "\n",
        "Dessa forma, será aplicada a otimização dos Hiperparâmetros sobre os modelos **Bagging**, na tentativa de melhorar a performance. O parâmetro selecionado será o número de modelos base a serem criados (n_estimators)."
      ],
      "metadata": {
        "id": "IYXwHVgnhedZ"
      }
    },
    {
      "cell_type": "code",
      "source": [
        "# Definindo os componentes do pipeline para o modelo Bagging\n",
        "pipelines = []\n",
        "pipelines.append(('Bag-orig', Pipeline(steps=[bagging])))\n",
        "pipelines.append(('Bag-padr', Pipeline(steps=[standard_scaler, bagging])))\n",
        "pipelines.append(('Bag-norm', Pipeline(steps=[min_max_scaler, bagging])))\n",
        "\n",
        "# Definindo possíveis valores para o número de modelos bases a serem criados\n",
        "param_grid = {\n",
        "    'Bag__n_estimators': [60,80,100,120,140,160]\n",
        "}\n",
        "\n",
        "# Prepara e executa o GridSearchCV\n",
        "for nome, modelo in pipelines:\n",
        "    grid = GridSearchCV(estimator=modelo, param_grid=param_grid, scoring=scoring, cv=kfold)\n",
        "    grid.fit(X_treino, y_treino)\n",
        "    # imprime a melhor configuração\n",
        "    print(\"Sem tratamento de missings: %s - Melhor: %f usando %s\" % (nome, grid.best_score_, grid.best_params_))"
      ],
      "metadata": {
        "colab": {
          "base_uri": "https://localhost:8080/"
        },
        "id": "XPF1g8s7n0p-",
        "outputId": "4f033857-088b-43c1-dc2a-e311407d7fc4"
      },
      "execution_count": 11,
      "outputs": [
        {
          "output_type": "stream",
          "name": "stdout",
          "text": [
            "Sem tratamento de missings: Bag-orig - Melhor: -703.907295 usando {'Bag__n_estimators': 160}\n",
            "Sem tratamento de missings: Bag-padr - Melhor: -701.984443 usando {'Bag__n_estimators': 160}\n",
            "Sem tratamento de missings: Bag-norm - Melhor: -736.980350 usando {'Bag__n_estimators': 160}\n"
          ]
        }
      ]
    },
    {
      "cell_type": "code",
      "source": [
        "# Definindo os componentes do pipeline para o modelo random_forest\n",
        "pipelines = []\n",
        "pipelines.append(('RF-orig', Pipeline(steps=[random_forest])))\n",
        "pipelines.append(('RF-padr', Pipeline(steps=[standard_scaler, random_forest])))\n",
        "pipelines.append(('RF-norm', Pipeline(steps=[min_max_scaler, random_forest])))\n",
        "\n",
        "# Definindo possíveis valores para o número de modelos bases a serem criados\n",
        "param_grid = {\n",
        "    'RF__criterion': ['squared_error', 'absolute_error', 'friedman_mse', 'poisson']\n",
        "}\n",
        "\n",
        "# Prepara e executa o GridSearchCV\n",
        "for nome, modelo in pipelines:\n",
        "    grid = GridSearchCV(estimator=modelo, param_grid=param_grid, scoring=scoring, cv=kfold)\n",
        "    grid.fit(X_treino, y_treino)\n",
        "    # imprime a melhor configuração\n",
        "    print(\"Sem tratamento de missings: %s - Melhor: %f usando %s\" % (nome, grid.best_score_, grid.best_params_))"
      ],
      "metadata": {
        "colab": {
          "base_uri": "https://localhost:8080/"
        },
        "id": "fjL90QPJheu8",
        "outputId": "6a01635a-2b06-4c2d-cc30-22cfd1f930ef"
      },
      "execution_count": 12,
      "outputs": [
        {
          "output_type": "stream",
          "name": "stdout",
          "text": [
            "Sem tratamento de missings: RF-orig - Melhor: -691.090604 usando {'RF__criterion': 'absolute_error'}\n",
            "Sem tratamento de missings: RF-padr - Melhor: -692.629496 usando {'RF__criterion': 'absolute_error'}\n",
            "Sem tratamento de missings: RF-norm - Melhor: -716.461673 usando {'RF__criterion': 'poisson'}\n"
          ]
        }
      ]
    },
    {
      "cell_type": "code",
      "source": [
        "# Criando um modelo com todo o conjunto de treino\n",
        "padronizado = StandardScaler().fit(X_treino) # ajuste do scaler com o conjunto de treino\n",
        "X_padronizado = padronizado.transform(X_treino) # aplicação da padronização no conjunto de treino\n",
        "modelo = BaggingRegressor(estimator=base, n_estimators=175, random_state=num_seed)\n",
        "modelo.fit(X_padronizado, y_treino)\n",
        "\n",
        "# Fazendo as predições com o conjunto de teste\n",
        "X_teste_padronizado = padronizado.transform(X_teste) # aplicação da padronização no conjunto de teste\n",
        "predicoes = modelo.predict(X_teste_padronizado)\n",
        "\n",
        "# Estimando o MSE e o RMSE no conjunto de teste\n",
        "mse = mean_squared_error(y_teste, predicoes)\n",
        "print(\"MSE %0.2f\" % mse)\n",
        "print(\"RMSE %0.2f\" % np.sqrt(abs(mse)))\n",
        "\n",
        "modelo.fit(X, y)\n",
        "\n",
        "# Teste com novos dados\n",
        "data = {'PLATAFORMA':  [4, 7, 2],\n",
        "        'LDA': [2, 1, 0],\n",
        "        'BACIA': [1, 0, 1],\n",
        "        'IDADE': [20, 10, 1]\n",
        "        }\n",
        "\n",
        "atributos = ['PLATAFORMA', 'LDA', 'BACIA', 'IDADE']\n",
        "entrada = pd.DataFrame(data, columns=atributos)\n",
        "\n",
        "array_entrada = entrada.values\n",
        "X_entrada = array_entrada[:,0:4]\n",
        "\n",
        "saidas = modelo.predict(X_entrada)\n",
        "print(saidas)"
      ],
      "metadata": {
        "colab": {
          "base_uri": "https://localhost:8080/"
        },
        "id": "3jPKh3sNDgHl",
        "outputId": "21d3671a-6352-4cac-f083-5ac3cd4360e3"
      },
      "execution_count": 13,
      "outputs": [
        {
          "output_type": "stream",
          "name": "stdout",
          "text": [
            "MSE 405.68\n",
            "RMSE 20.14\n",
            "[17.50038961 23.20862585 14.40838095]\n"
          ]
        }
      ]
    },
    {
      "cell_type": "code",
      "source": [
        "# Criando um modelo com todo o conjunto de treino\n",
        "modelo = RandomForestRegressor(n_estimators=num_trees, max_features=max_features, random_state=num_seed, criterion='absolute_error')\n",
        "modelo.fit(X_treino, y_treino)\n",
        "\n",
        "# Fazendo as predições com o conjunto de teste\n",
        "predicoes = modelo.predict(X_teste)\n",
        "\n",
        "# Estimando o MSE e o RMSE no conjunto de teste\n",
        "mse = mean_squared_error(y_teste, predicoes)\n",
        "print(\"MSE %0.2f\" % mse)\n",
        "print(\"RMSE %0.2f\" % np.sqrt(abs(mse)))\n",
        "\n",
        "modelo.fit(X, y)\n",
        "\n",
        "# Teste com novos dados\n",
        "data = {'PLATAFORMA':  [4, 7, 2],\n",
        "        'LDA': [2, 1, 0],\n",
        "        'BACIA': [1, 0, 1],\n",
        "        'IDADE': [20, 10, 5]\n",
        "        }\n",
        "\n",
        "atributos = ['PLATAFORMA', 'LDA', 'BACIA', 'IDADE']\n",
        "entrada = pd.DataFrame(data, columns=atributos)\n",
        "\n",
        "array_entrada = entrada.values\n",
        "X_entrada = array_entrada[:,0:4]\n",
        "\n",
        "saidas = modelo.predict(X_entrada)\n",
        "print(saidas)"
      ],
      "metadata": {
        "id": "NO9kUDMMsn93",
        "outputId": "a27e6040-74cb-42c2-f646-b7dff93f28e7",
        "colab": {
          "base_uri": "https://localhost:8080/"
        }
      },
      "execution_count": 14,
      "outputs": [
        {
          "output_type": "stream",
          "name": "stdout",
          "text": [
            "MSE 437.76\n",
            "RMSE 20.92\n",
            "[16.435 17.035 15.69 ]\n"
          ]
        }
      ]
    }
  ]
}